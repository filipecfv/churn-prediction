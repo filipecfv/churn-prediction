{
 "cells": [
  {
   "cell_type": "code",
   "execution_count": 41,
   "id": "31d3a629-69ab-442c-97ae-27ff08399909",
   "metadata": {},
   "outputs": [
    {
     "data": {
      "text/html": [
       "<div>\n",
       "<style scoped>\n",
       "    .dataframe tbody tr th:only-of-type {\n",
       "        vertical-align: middle;\n",
       "    }\n",
       "\n",
       "    .dataframe tbody tr th {\n",
       "        vertical-align: top;\n",
       "    }\n",
       "\n",
       "    .dataframe thead th {\n",
       "        text-align: right;\n",
       "    }\n",
       "</style>\n",
       "<table border=\"1\" class=\"dataframe\">\n",
       "  <thead>\n",
       "    <tr style=\"text-align: right;\">\n",
       "      <th></th>\n",
       "      <th>CreditScore</th>\n",
       "      <th>Age</th>\n",
       "      <th>Tenure</th>\n",
       "      <th>Balance</th>\n",
       "      <th>NumOfProducts</th>\n",
       "      <th>HasCrCard</th>\n",
       "      <th>IsActiveMember</th>\n",
       "      <th>EstimatedSalary</th>\n",
       "      <th>Exited</th>\n",
       "      <th>Male</th>\n",
       "    </tr>\n",
       "  </thead>\n",
       "  <tbody>\n",
       "    <tr>\n",
       "      <th>0</th>\n",
       "      <td>619</td>\n",
       "      <td>42</td>\n",
       "      <td>2</td>\n",
       "      <td>0.00</td>\n",
       "      <td>1</td>\n",
       "      <td>1</td>\n",
       "      <td>1</td>\n",
       "      <td>101348.88</td>\n",
       "      <td>1</td>\n",
       "      <td>0</td>\n",
       "    </tr>\n",
       "    <tr>\n",
       "      <th>1</th>\n",
       "      <td>608</td>\n",
       "      <td>41</td>\n",
       "      <td>1</td>\n",
       "      <td>83807.86</td>\n",
       "      <td>1</td>\n",
       "      <td>0</td>\n",
       "      <td>1</td>\n",
       "      <td>112542.58</td>\n",
       "      <td>0</td>\n",
       "      <td>0</td>\n",
       "    </tr>\n",
       "    <tr>\n",
       "      <th>2</th>\n",
       "      <td>502</td>\n",
       "      <td>42</td>\n",
       "      <td>8</td>\n",
       "      <td>159660.80</td>\n",
       "      <td>3</td>\n",
       "      <td>1</td>\n",
       "      <td>0</td>\n",
       "      <td>113931.57</td>\n",
       "      <td>1</td>\n",
       "      <td>0</td>\n",
       "    </tr>\n",
       "    <tr>\n",
       "      <th>3</th>\n",
       "      <td>699</td>\n",
       "      <td>39</td>\n",
       "      <td>1</td>\n",
       "      <td>0.00</td>\n",
       "      <td>2</td>\n",
       "      <td>0</td>\n",
       "      <td>0</td>\n",
       "      <td>93826.63</td>\n",
       "      <td>0</td>\n",
       "      <td>0</td>\n",
       "    </tr>\n",
       "    <tr>\n",
       "      <th>4</th>\n",
       "      <td>850</td>\n",
       "      <td>43</td>\n",
       "      <td>2</td>\n",
       "      <td>125510.82</td>\n",
       "      <td>1</td>\n",
       "      <td>1</td>\n",
       "      <td>1</td>\n",
       "      <td>79084.10</td>\n",
       "      <td>0</td>\n",
       "      <td>0</td>\n",
       "    </tr>\n",
       "  </tbody>\n",
       "</table>\n",
       "</div>"
      ],
      "text/plain": [
       "   CreditScore  Age  Tenure    Balance  NumOfProducts  HasCrCard   \n",
       "0          619   42       2       0.00              1          1  \\\n",
       "1          608   41       1   83807.86              1          0   \n",
       "2          502   42       8  159660.80              3          1   \n",
       "3          699   39       1       0.00              2          0   \n",
       "4          850   43       2  125510.82              1          1   \n",
       "\n",
       "   IsActiveMember  EstimatedSalary  Exited  Male  \n",
       "0               1        101348.88       1     0  \n",
       "1               1        112542.58       0     0  \n",
       "2               0        113931.57       1     0  \n",
       "3               0         93826.63       0     0  \n",
       "4               1         79084.10       0     0  "
      ]
     },
     "execution_count": 41,
     "metadata": {},
     "output_type": "execute_result"
    }
   ],
   "source": [
    "import pandas as pd\n",
    "import numpy as np\n",
    "\n",
    "churn = pd.read_csv('output/churn_cleaned.csv')\n",
    "churn.head()"
   ]
  },
  {
   "cell_type": "markdown",
   "id": "df49b15d-8dde-446a-ba95-dc02276e3586",
   "metadata": {},
   "source": [
    "# Train Test Split"
   ]
  },
  {
   "cell_type": "code",
   "execution_count": 5,
   "id": "1c8a1ad2-2c18-4a16-ae00-1cb1c2331a1b",
   "metadata": {},
   "outputs": [],
   "source": [
    "from sklearn.model_selection import train_test_split\n",
    "\n",
    "X = churn.drop('Exited', axis = 1)\n",
    "y = churn['Exited']\n",
    "\n",
    "X_train, X_test, y_train, y_test = train_test_split(X, y, test_size=0.33, random_state=200)"
   ]
  },
  {
   "cell_type": "code",
   "execution_count": 7,
   "id": "e7d30728-a5a6-4e39-8e67-07af09aa52fc",
   "metadata": {},
   "outputs": [
    {
     "name": "stdout",
     "output_type": "stream",
     "text": [
      "Training sample size:\n",
      "\t X: (6700, 9)\n",
      "\t y: (6700,)\n",
      "Testing sample size:\n",
      "\t X: (3300, 9)\n",
      "\t y: (3300,)\n"
     ]
    }
   ],
   "source": [
    "print('Training sample size:')\n",
    "print('\\t X:', X_train.shape)\n",
    "print('\\t y:', y_train.shape)\n",
    "print('Testing sample size:')\n",
    "print('\\t X:', X_test.shape)\n",
    "print('\\t y:', y_test.shape)"
   ]
  },
  {
   "cell_type": "markdown",
   "id": "bbcc5ad3-398d-4023-816e-e434b4f875da",
   "metadata": {},
   "source": [
    "# Models"
   ]
  },
  {
   "cell_type": "code",
   "execution_count": 22,
   "id": "96fd1f98-3198-4918-b5b2-9128a2cd5b5f",
   "metadata": {},
   "outputs": [
    {
     "name": "stdout",
     "output_type": "stream",
     "text": [
      "Scores\n",
      "  Logistic Regression: \t 0.7863636363636364\n",
      "  Random Forest: \t 0.8484848484848485\n",
      "  Gradient Boosting: \t 0.853030303030303\n"
     ]
    }
   ],
   "source": [
    "from sklearn.linear_model import LogisticRegression\n",
    "from sklearn.ensemble import RandomForestClassifier\n",
    "from sklearn.ensemble import GradientBoostingClassifier\n",
    "\n",
    "lr = LogisticRegression()\n",
    "ls_res = lr.fit(X_train, y_train)\n",
    "lr_score = ls_res.score(X_test, y_test)\n",
    "\n",
    "forest = RandomForestClassifier()\n",
    "forest_res = forest.fit(X_train, y_train)\n",
    "forest_score = forest_res.score(X_test, y_test)\n",
    "\n",
    "gb = GradientBoostingClassifier()\n",
    "gb_res = gb.fit(X_train, y_train)\n",
    "gb_score = gb_res.score(X_test, y_test)\n",
    "\n",
    "print('Scores')\n",
    "print('  Logistic Regression: \\t', lr_score)\n",
    "print('  Random Forest: \\t', forest_score)\n",
    "print('  Gradient Boosting: \\t', gb_score)"
   ]
  },
  {
   "cell_type": "markdown",
   "id": "64f4ffae-0989-42f8-aaef-4f6eab3055dc",
   "metadata": {},
   "source": [
    "## Random Forest"
   ]
  },
  {
   "cell_type": "markdown",
   "id": "03fe423d-a916-41de-bd63-0a90d0583bfe",
   "metadata": {},
   "source": [
    "### Grid Search"
   ]
  },
  {
   "cell_type": "code",
   "execution_count": 31,
   "id": "d1a6cb0d-33a5-4053-a803-23f1ce818dba",
   "metadata": {},
   "outputs": [
    {
     "name": "stdout",
     "output_type": "stream",
     "text": [
      "{'max_features': 'sqrt', 'n_estimators': 100}\n"
     ]
    }
   ],
   "source": [
    "from sklearn.model_selection import GridSearchCV\n",
    "from sklearn.ensemble import RandomForestClassifier\n",
    "\n",
    "forest = RandomForestClassifier(n_estimators=300, max_features='sqrt')\n",
    "\n",
    "param_grid = {\n",
    "    'n_estimators': [100, 500, 1000],\n",
    "    'max_features': [0.5, 1, 5, 10, 'sqrt']\n",
    "}\n",
    "\n",
    "grid_search = GridSearchCV(estimator=forest, param_grid=param_grid, cv=5)\n",
    "grid_search.fit(X_train, y_train)\n",
    "\n",
    "# Retrieve the best parameter combination\n",
    "best_params = grid_search.best_params_\n",
    "print(best_params)"
   ]
  },
  {
   "cell_type": "code",
   "execution_count": 48,
   "id": "caeb3f03-deb4-4c0a-a3f3-87fd2241e972",
   "metadata": {},
   "outputs": [
    {
     "name": "stdout",
     "output_type": "stream",
     "text": [
      "Random Forest\n",
      "  Score: \t 0.8506060606060606\n"
     ]
    }
   ],
   "source": [
    "from sklearn.ensemble import RandomForestClassifier\n",
    "from sklearn.metrics import mean_squared_error\n",
    "np.random.seed(100)\n",
    "\n",
    "forest = RandomForestClassifier(n_estimators=100, max_features='sqrt')\n",
    "forest_res = forest.fit(X_train, y_train)\n",
    "forest_score = forest_res.score(X_test, y_test)\n",
    "\n",
    "print('Random Forest\\n  Score: \\t', forest_score)"
   ]
  },
  {
   "cell_type": "markdown",
   "id": "3e11ee50-7862-47eb-b749-3945a4a5810a",
   "metadata": {},
   "source": [
    "## Cross Validation"
   ]
  },
  {
   "cell_type": "markdown",
   "id": "098f61a0-e0a4-4260-8510-54d8ca2f778c",
   "metadata": {},
   "source": [
    "### K-Fold"
   ]
  },
  {
   "cell_type": "code",
   "execution_count": 50,
   "id": "e0c36f47-553a-4b33-ae46-9457630f35b0",
   "metadata": {},
   "outputs": [
    {
     "name": "stdout",
     "output_type": "stream",
     "text": [
      "Scores: [0.85970149 0.88059701 0.85373134 0.85373134 0.86567164 0.85074627\n",
      " 0.84477612 0.86268657 0.83880597 0.84477612 0.85074627 0.86268657\n",
      " 0.85373134 0.84776119 0.8358209  0.8358209  0.87164179 0.83283582\n",
      " 0.84477612 0.85373134]\n",
      "\n",
      "Mean: 0.8522388059701493 (85.22%)\n",
      "\n",
      "Standard deviation: 0.012107044651148213 (1.21%)\n"
     ]
    }
   ],
   "source": [
    "np.random.seed(30)\n",
    "from sklearn.model_selection import cross_val_score\n",
    "\n",
    "scores = cross_val_score(forest, X_train, y_train, \n",
    "                         cv = 20)\n",
    "\n",
    "def display_scores(scores):\n",
    "    print(\"Scores:\", scores)\n",
    "    print(\"\\nMean:\", scores.mean(), f\"({scores.mean():.2%})\")\n",
    "    print(\"\\nStandard deviation:\", scores.std(), f\"({scores.std():.2%})\")\n",
    "\n",
    "display_scores(scores)"
   ]
  },
  {
   "cell_type": "markdown",
   "id": "c9999494-3765-44b1-a017-9df9399613cb",
   "metadata": {},
   "source": [
    "### Repreated K-Fold"
   ]
  },
  {
   "cell_type": "code",
   "execution_count": 51,
   "id": "ce2f308e-632a-45ec-8222-94ea8991c1e2",
   "metadata": {
    "scrolled": true
   },
   "outputs": [
    {
     "name": "stdout",
     "output_type": "stream",
     "text": [
      "Scores: [0.88358209 0.85074627 0.85074627 0.86567164 0.85074627 0.85074627\n",
      " 0.85074627 0.87761194 0.82686567 0.83283582 0.85671642 0.84477612\n",
      " 0.88059701 0.84179104 0.85074627 0.84776119 0.86268657 0.83880597\n",
      " 0.86567164 0.85373134 0.85970149 0.85970149 0.88059701 0.84179104\n",
      " 0.84776119 0.84179104 0.87462687 0.84179104 0.83283582 0.84477612\n",
      " 0.85970149 0.85373134 0.88059701 0.8358209  0.84776119 0.88656716\n",
      " 0.87761194 0.83283582 0.80597015 0.84179104 0.83880597 0.87462687\n",
      " 0.8358209  0.80895522 0.87164179 0.84179104 0.84776119 0.87164179\n",
      " 0.85373134 0.85373134 0.84179104 0.86865672 0.86865672 0.88656716\n",
      " 0.84776119 0.85373134 0.84477612 0.87761194 0.84477612 0.84179104\n",
      " 0.86268657 0.85074627 0.81791045 0.85671642 0.85074627 0.88059701\n",
      " 0.85373134 0.81492537 0.84477612 0.82686567 0.88955224 0.85970149\n",
      " 0.87761194 0.86567164 0.84477612 0.85074627 0.84477612 0.85373134\n",
      " 0.85373134 0.87761194 0.86567164 0.85373134 0.87462687 0.87164179\n",
      " 0.83880597 0.85373134 0.83880597 0.8358209  0.86567164 0.85074627\n",
      " 0.83880597 0.87761194 0.84776119 0.86567164 0.86865672 0.85671642\n",
      " 0.83283582 0.82985075 0.86268657 0.83283582]\n",
      "\n",
      "Mean: 0.8534626865671643 (85.35%)\n",
      "\n",
      "Standard deviation: 0.017375570429807297 (1.74%)\n"
     ]
    }
   ],
   "source": [
    "np.random.seed(30)\n",
    "from sklearn.model_selection import cross_val_score, RepeatedKFold\n",
    "\n",
    "cv = RepeatedKFold(n_splits=20, n_repeats=5, random_state=2)\n",
    "scores = cross_val_score(forest, X_train, y_train, cv=cv)\n",
    "\n",
    "display_scores(scores)"
   ]
  },
  {
   "cell_type": "markdown",
   "id": "74e57f96-4619-4320-8476-7d7f486937c6",
   "metadata": {},
   "source": [
    "## Gradient Boosting"
   ]
  },
  {
   "cell_type": "markdown",
   "id": "8664e776-f2ef-4310-bf40-09748903799d",
   "metadata": {},
   "source": [
    "### Grid Search"
   ]
  },
  {
   "cell_type": "code",
   "execution_count": 53,
   "id": "7a600d35-1991-4527-bffc-a55929589869",
   "metadata": {},
   "outputs": [
    {
     "name": "stdout",
     "output_type": "stream",
     "text": [
      "{'learning_rate': 0.1, 'max_depth': 3, 'n_estimators': 100}\n"
     ]
    }
   ],
   "source": [
    "from sklearn.model_selection import GridSearchCV\n",
    "from sklearn.ensemble import GradientBoostingClassifier\n",
    "\n",
    "gb = GradientBoostingClassifier()\n",
    "\n",
    "param_grid = {\n",
    "    'n_estimators': [100, 500, 1000],\n",
    "    'max_depth': [1, 3, 6, 10], \n",
    "    'learning_rate': [0.01, 0.05, 0.1, 0.5, 1]\n",
    "}\n",
    "\n",
    "grid_search = GridSearchCV(estimator=gb, param_grid=param_grid, cv=5)\n",
    "grid_search.fit(X_train, y_train)\n",
    "\n",
    "# Retrieve the best parameter combination\n",
    "best_params = grid_search.best_params_\n",
    "print(best_params)"
   ]
  },
  {
   "cell_type": "code",
   "execution_count": 54,
   "id": "b93693fe-2a56-4dd3-a15b-a7cea8165aa8",
   "metadata": {},
   "outputs": [
    {
     "name": "stdout",
     "output_type": "stream",
     "text": [
      "Gradient Boosting \n",
      "  Score: \t 0.853030303030303\n"
     ]
    }
   ],
   "source": [
    "from sklearn.ensemble import GradientBoostingClassifier\n",
    "from sklearn.metrics import mean_squared_error\n",
    "np.random.seed(100)\n",
    "\n",
    "gb = GradientBoostingClassifier(n_estimators=100, max_depth = 3, learning_rate = 0.1)\n",
    "gb_res = gb.fit(X_train, y_train)\n",
    "gb_score = gb_res.score(X_test, y_test)\n",
    "\n",
    "print('Gradient Boosting \\n  Score: \\t', gb_score)"
   ]
  },
  {
   "cell_type": "markdown",
   "id": "debaeb21-2982-4e77-8912-4f8c85c56240",
   "metadata": {},
   "source": [
    "## Cross Validation"
   ]
  },
  {
   "cell_type": "markdown",
   "id": "befff200-3100-4d99-8ce4-d513d7f9bd05",
   "metadata": {},
   "source": [
    "### K-Fold"
   ]
  },
  {
   "cell_type": "code",
   "execution_count": 55,
   "id": "0760ca9d-ea6b-40ca-ad27-0ce27a84706c",
   "metadata": {},
   "outputs": [
    {
     "name": "stdout",
     "output_type": "stream",
     "text": [
      "Scores: [0.87462687 0.87462687 0.86865672 0.85671642 0.86567164 0.86865672\n",
      " 0.87164179 0.86268657 0.85671642 0.83283582 0.85373134 0.86268657\n",
      " 0.84776119 0.86567164 0.83283582 0.86865672 0.87164179 0.84776119\n",
      " 0.86268657 0.87164179]\n",
      "\n",
      "Mean: 0.8608955223880598 (86.09%)\n",
      "\n",
      "Standard deviation: 0.012176763017535 (1.22%)\n"
     ]
    }
   ],
   "source": [
    "np.random.seed(30)\n",
    "from sklearn.model_selection import cross_val_score\n",
    "\n",
    "scores = cross_val_score(gb, X_train, y_train, \n",
    "                         cv = 20)\n",
    "\n",
    "def display_scores(scores):\n",
    "    print(\"Scores:\", scores)\n",
    "    print(\"\\nMean:\", scores.mean(), f\"({scores.mean():.2%})\")\n",
    "    print(\"\\nStandard deviation:\", scores.std(), f\"({scores.std():.2%})\")\n",
    "\n",
    "display_scores(scores)"
   ]
  },
  {
   "cell_type": "markdown",
   "id": "0d5b5309-7aa6-4bf7-bc84-0384077e5939",
   "metadata": {},
   "source": [
    "### Repreated K-Fold"
   ]
  },
  {
   "cell_type": "code",
   "execution_count": 56,
   "id": "1c9d39a8-f4ca-4ef9-83f4-bb5a4a43d119",
   "metadata": {
    "scrolled": true
   },
   "outputs": [
    {
     "name": "stdout",
     "output_type": "stream",
     "text": [
      "Scores: [0.90149254 0.84477612 0.85074627 0.89253731 0.85970149 0.86567164\n",
      " 0.85373134 0.87164179 0.84179104 0.85074627 0.85074627 0.85970149\n",
      " 0.87761194 0.86567164 0.85671642 0.85970149 0.85373134 0.85671642\n",
      " 0.86567164 0.84477612 0.87164179 0.88955224 0.88358209 0.85373134\n",
      " 0.85074627 0.86268657 0.86567164 0.85671642 0.82985075 0.85671642\n",
      " 0.85373134 0.88059701 0.88656716 0.85074627 0.83880597 0.88059701\n",
      " 0.87761194 0.84179104 0.8119403  0.85970149 0.83283582 0.88059701\n",
      " 0.83283582 0.82985075 0.88955224 0.85671642 0.86268657 0.87462687\n",
      " 0.86865672 0.85671642 0.84776119 0.88059701 0.87761194 0.87761194\n",
      " 0.86268657 0.87164179 0.85373134 0.85970149 0.84776119 0.83880597\n",
      " 0.85373134 0.86865672 0.84179104 0.85373134 0.85671642 0.87761194\n",
      " 0.86567164 0.80597015 0.85671642 0.84776119 0.89253731 0.85970149\n",
      " 0.88656716 0.87462687 0.84179104 0.85074627 0.86567164 0.84776119\n",
      " 0.88059701 0.88656716 0.87761194 0.84776119 0.86567164 0.87462687\n",
      " 0.85074627 0.85074627 0.85074627 0.84776119 0.87462687 0.86567164\n",
      " 0.85671642 0.86865672 0.85970149 0.87761194 0.86865672 0.85074627\n",
      " 0.84776119 0.85074627 0.87462687 0.85970149]\n",
      "\n",
      "Mean: 0.8606567164179107 (86.07%)\n",
      "\n",
      "Standard deviation: 0.016774313388738808 (1.68%)\n"
     ]
    }
   ],
   "source": [
    "np.random.seed(30)\n",
    "from sklearn.model_selection import cross_val_score, RepeatedKFold\n",
    "\n",
    "cv = RepeatedKFold(n_splits=20, n_repeats=5, random_state=2)\n",
    "scores = cross_val_score(gb, X_train, y_train, cv=cv)\n",
    "\n",
    "display_scores(scores)"
   ]
  },
  {
   "cell_type": "code",
   "execution_count": null,
   "id": "c596767f-d076-463a-b563-94fd44d52823",
   "metadata": {},
   "outputs": [],
   "source": []
  }
 ],
 "metadata": {
  "kernelspec": {
   "display_name": "Python 3 (ipykernel)",
   "language": "python",
   "name": "python3"
  },
  "language_info": {
   "codemirror_mode": {
    "name": "ipython",
    "version": 3
   },
   "file_extension": ".py",
   "mimetype": "text/x-python",
   "name": "python",
   "nbconvert_exporter": "python",
   "pygments_lexer": "ipython3",
   "version": "3.10.6"
  }
 },
 "nbformat": 4,
 "nbformat_minor": 5
}
